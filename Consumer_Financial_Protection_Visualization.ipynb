{
 "cells": [
  {
   "cell_type": "code",
   "execution_count": 1,
   "metadata": {},
   "outputs": [],
   "source": [
    "import plotly.plotly as py\n",
    "import plotly.graph_objs as go\n",
    "from plotly import tools\n",
    "from plotly.offline import download_plotlyjs, init_notebook_mode, plot, iplot\n",
    "\n",
    "import numpy as np\n",
    "import pandas as pd "
   ]
  },
  {
   "cell_type": "code",
   "execution_count": 2,
   "metadata": {},
   "outputs": [],
   "source": [
    "df = pd.read_csv('consumer_complaints.csv', low_memory=False)"
   ]
  },
  {
   "cell_type": "code",
   "execution_count": 3,
   "metadata": {},
   "outputs": [
    {
     "data": {
      "text/html": [
       "<div>\n",
       "<style scoped>\n",
       "    .dataframe tbody tr th:only-of-type {\n",
       "        vertical-align: middle;\n",
       "    }\n",
       "\n",
       "    .dataframe tbody tr th {\n",
       "        vertical-align: top;\n",
       "    }\n",
       "\n",
       "    .dataframe thead th {\n",
       "        text-align: right;\n",
       "    }\n",
       "</style>\n",
       "<table border=\"1\" class=\"dataframe\">\n",
       "  <thead>\n",
       "    <tr style=\"text-align: right;\">\n",
       "      <th></th>\n",
       "      <th>state</th>\n",
       "      <th>Number_Complaints</th>\n",
       "    </tr>\n",
       "  </thead>\n",
       "  <tbody>\n",
       "    <tr>\n",
       "      <th>0</th>\n",
       "      <td>AA</td>\n",
       "      <td>9</td>\n",
       "    </tr>\n",
       "    <tr>\n",
       "      <th>1</th>\n",
       "      <td>AE</td>\n",
       "      <td>219</td>\n",
       "    </tr>\n",
       "    <tr>\n",
       "      <th>2</th>\n",
       "      <td>AK</td>\n",
       "      <td>638</td>\n",
       "    </tr>\n",
       "    <tr>\n",
       "      <th>3</th>\n",
       "      <td>AL</td>\n",
       "      <td>5635</td>\n",
       "    </tr>\n",
       "    <tr>\n",
       "      <th>4</th>\n",
       "      <td>AP</td>\n",
       "      <td>153</td>\n",
       "    </tr>\n",
       "  </tbody>\n",
       "</table>\n",
       "</div>"
      ],
      "text/plain": [
       "  state  Number_Complaints\n",
       "0    AA                  9\n",
       "1    AE                219\n",
       "2    AK                638\n",
       "3    AL               5635\n",
       "4    AP                153"
      ]
     },
     "execution_count": 3,
     "metadata": {},
     "output_type": "execute_result"
    }
   ],
   "source": [
    "new_df = df.groupby([\"state\"]).size().reset_index(name=\"Number_Complaints\")\n",
    "new_df.head()"
   ]
  },
  {
   "cell_type": "code",
   "execution_count": 4,
   "metadata": {},
   "outputs": [
    {
     "data": {
      "text/html": [
       "<script type=\"text/javascript\">window.PlotlyConfig = {MathJaxConfig: 'local'};</script><script type=\"text/javascript\">if (window.MathJax) {MathJax.Hub.Config({SVG: {font: \"STIX-Web\"}});}</script><script>requirejs.config({paths: { 'plotly': ['https://cdn.plot.ly/plotly-latest.min']},});if(!window._Plotly) {require(['plotly'],function(plotly) {window._Plotly=plotly;});}</script>"
      ],
      "text/vnd.plotly.v1+html": [
       "<script type=\"text/javascript\">window.PlotlyConfig = {MathJaxConfig: 'local'};</script><script type=\"text/javascript\">if (window.MathJax) {MathJax.Hub.Config({SVG: {font: \"STIX-Web\"}});}</script><script>requirejs.config({paths: { 'plotly': ['https://cdn.plot.ly/plotly-latest.min']},});if(!window._Plotly) {require(['plotly'],function(plotly) {window._Plotly=plotly;});}</script>"
      ]
     },
     "metadata": {},
     "output_type": "display_data"
    },
    {
     "data": {
      "application/vnd.plotly.v1+json": {
       "config": {
        "linkText": "Export to plot.ly",
        "plotlyServerURL": "https://plot.ly",
        "showLink": false
       },
       "data": [
        {
         "autocolorscale": false,
         "colorbar": {
          "title": {
           "text": "Number of Complaints"
          }
         },
         "colorscale": [
          [
           0,
           "rgb(242,240,247)"
          ],
          [
           0.2,
           "rgb(218,218,235)"
          ],
          [
           0.4,
           "rgb(188,189,220)"
          ],
          [
           0.6,
           "rgb(158,154,200)"
          ],
          [
           0.8,
           "rgb(117,107,177)"
          ],
          [
           1,
           "rgb(84,39,143)"
          ]
         ],
         "locationmode": "USA-states",
         "locations": [
          "AA",
          "AE",
          "AK",
          "AL",
          "AP",
          "AR",
          "AS",
          "AZ",
          "CA",
          "CO",
          "CT",
          "DC",
          "DE",
          "FL",
          "FM",
          "GA",
          "GU",
          "HI",
          "IA",
          "ID",
          "IL",
          "IN",
          "KS",
          "KY",
          "LA",
          "MA",
          "MD",
          "ME",
          "MH",
          "MI",
          "MN",
          "MO",
          "MP",
          "MS",
          "MT",
          "NC",
          "ND",
          "NE",
          "NH",
          "NJ",
          "NM",
          "NV",
          "NY",
          "OH",
          "OK",
          "OR",
          "PA",
          "PR",
          "PW",
          "RI",
          "SC",
          "SD",
          "TN",
          "TX",
          "UT",
          "VA",
          "VI",
          "VT",
          "WA",
          "WI",
          "WV",
          "WY"
         ],
         "marker": {
          "line": {
           "color": "rgb(255,255,255)",
           "width": 2
          }
         },
         "text": [
          "AA<br>Complaints 9",
          "AE<br>Complaints 219",
          "AK<br>Complaints 638",
          "AL<br>Complaints 5635",
          "AP<br>Complaints 153",
          "AR<br>Complaints 2385",
          "AS<br>Complaints 17",
          "AZ<br>Complaints 12348",
          "CA<br>Complaints 81700",
          "CO<br>Complaints 9495",
          "CT<br>Complaints 6445",
          "DC<br>Complaints 3224",
          "DE<br>Complaints 2917",
          "FL<br>Complaints 53673",
          "FM<br>Complaints 32",
          "GA<br>Complaints 24548",
          "GU<br>Complaints 69",
          "HI<br>Complaints 1937",
          "IA<br>Complaints 2290",
          "ID<br>Complaints 1935",
          "IL<br>Complaints 19624",
          "IN<br>Complaints 6139",
          "KS<br>Complaints 2694",
          "KY<br>Complaints 3992",
          "LA<br>Complaints 5403",
          "MA<br>Complaints 11105",
          "MD<br>Complaints 17703",
          "ME<br>Complaints 1942",
          "MH<br>Complaints 27",
          "MI<br>Complaints 14486",
          "MN<br>Complaints 6424",
          "MO<br>Complaints 7233",
          "MP<br>Complaints 19",
          "MS<br>Complaints 2570",
          "MT<br>Complaints 893",
          "NC<br>Complaints 15501",
          "ND<br>Complaints 476",
          "NE<br>Complaints 1742",
          "NH<br>Complaints 2826",
          "NJ<br>Complaints 22408",
          "NM<br>Complaints 2776",
          "NV<br>Complaints 6779",
          "NY<br>Complaints 38266",
          "OH<br>Complaints 17380",
          "OK<br>Complaints 3630",
          "OR<br>Complaints 6604",
          "PA<br>Complaints 20015",
          "PR<br>Complaints 1316",
          "PW<br>Complaints 9",
          "RI<br>Complaints 1899",
          "SC<br>Complaints 7013",
          "SD<br>Complaints 757",
          "TN<br>Complaints 8523",
          "TX<br>Complaints 41352",
          "UT<br>Complaints 2951",
          "VA<br>Complaints 18150",
          "VI<br>Complaints 144",
          "VT<br>Complaints 943",
          "WA<br>Complaints 11554",
          "WI<br>Complaints 6125",
          "WV<br>Complaints 1457",
          "WY<br>Complaints 551"
         ],
         "type": "choropleth",
         "uid": "242ca6a1-9106-43c0-b6e0-97b2e41e6f37",
         "z": [
          9,
          219,
          638,
          5635,
          153,
          2385,
          17,
          12348,
          81700,
          9495,
          6445,
          3224,
          2917,
          53673,
          32,
          24548,
          69,
          1937,
          2290,
          1935,
          19624,
          6139,
          2694,
          3992,
          5403,
          11105,
          17703,
          1942,
          27,
          14486,
          6424,
          7233,
          19,
          2570,
          893,
          15501,
          476,
          1742,
          2826,
          22408,
          2776,
          6779,
          38266,
          17380,
          3630,
          6604,
          20015,
          1316,
          9,
          1899,
          7013,
          757,
          8523,
          41352,
          2951,
          18150,
          144,
          943,
          11554,
          6125,
          1457,
          551
         ]
        }
       ],
       "layout": {
        "geo": {
         "lakecolor": "rgb(255, 255, 255)",
         "projection": {
          "type": "albers usa"
         },
         "scope": "usa",
         "showlakes": false
        },
        "title": {
         "text": "Number of Complaints by State<br>"
        }
       }
      },
      "text/html": [
       "<div id=\"41b99eaa-26ac-4862-b1f9-774519c73fb7\" style=\"height: 525px; width: 100%;\" class=\"plotly-graph-div\"></div><script type=\"text/javascript\">require([\"plotly\"], function(Plotly) { window.PLOTLYENV=window.PLOTLYENV || {};window.PLOTLYENV.BASE_URL=\"https://plot.ly\";Plotly.newPlot(\"41b99eaa-26ac-4862-b1f9-774519c73fb7\", [{\"autocolorscale\": false, \"colorbar\": {\"title\": {\"text\": \"Number of Complaints\"}}, \"colorscale\": [[0.0, \"rgb(242,240,247)\"], [0.2, \"rgb(218,218,235)\"], [0.4, \"rgb(188,189,220)\"], [0.6, \"rgb(158,154,200)\"], [0.8, \"rgb(117,107,177)\"], [1.0, \"rgb(84,39,143)\"]], \"locationmode\": \"USA-states\", \"locations\": [\"AA\", \"AE\", \"AK\", \"AL\", \"AP\", \"AR\", \"AS\", \"AZ\", \"CA\", \"CO\", \"CT\", \"DC\", \"DE\", \"FL\", \"FM\", \"GA\", \"GU\", \"HI\", \"IA\", \"ID\", \"IL\", \"IN\", \"KS\", \"KY\", \"LA\", \"MA\", \"MD\", \"ME\", \"MH\", \"MI\", \"MN\", \"MO\", \"MP\", \"MS\", \"MT\", \"NC\", \"ND\", \"NE\", \"NH\", \"NJ\", \"NM\", \"NV\", \"NY\", \"OH\", \"OK\", \"OR\", \"PA\", \"PR\", \"PW\", \"RI\", \"SC\", \"SD\", \"TN\", \"TX\", \"UT\", \"VA\", \"VI\", \"VT\", \"WA\", \"WI\", \"WV\", \"WY\"], \"marker\": {\"line\": {\"color\": \"rgb(255,255,255)\", \"width\": 2}}, \"text\": [\"AA<br>Complaints 9\", \"AE<br>Complaints 219\", \"AK<br>Complaints 638\", \"AL<br>Complaints 5635\", \"AP<br>Complaints 153\", \"AR<br>Complaints 2385\", \"AS<br>Complaints 17\", \"AZ<br>Complaints 12348\", \"CA<br>Complaints 81700\", \"CO<br>Complaints 9495\", \"CT<br>Complaints 6445\", \"DC<br>Complaints 3224\", \"DE<br>Complaints 2917\", \"FL<br>Complaints 53673\", \"FM<br>Complaints 32\", \"GA<br>Complaints 24548\", \"GU<br>Complaints 69\", \"HI<br>Complaints 1937\", \"IA<br>Complaints 2290\", \"ID<br>Complaints 1935\", \"IL<br>Complaints 19624\", \"IN<br>Complaints 6139\", \"KS<br>Complaints 2694\", \"KY<br>Complaints 3992\", \"LA<br>Complaints 5403\", \"MA<br>Complaints 11105\", \"MD<br>Complaints 17703\", \"ME<br>Complaints 1942\", \"MH<br>Complaints 27\", \"MI<br>Complaints 14486\", \"MN<br>Complaints 6424\", \"MO<br>Complaints 7233\", \"MP<br>Complaints 19\", \"MS<br>Complaints 2570\", \"MT<br>Complaints 893\", \"NC<br>Complaints 15501\", \"ND<br>Complaints 476\", \"NE<br>Complaints 1742\", \"NH<br>Complaints 2826\", \"NJ<br>Complaints 22408\", \"NM<br>Complaints 2776\", \"NV<br>Complaints 6779\", \"NY<br>Complaints 38266\", \"OH<br>Complaints 17380\", \"OK<br>Complaints 3630\", \"OR<br>Complaints 6604\", \"PA<br>Complaints 20015\", \"PR<br>Complaints 1316\", \"PW<br>Complaints 9\", \"RI<br>Complaints 1899\", \"SC<br>Complaints 7013\", \"SD<br>Complaints 757\", \"TN<br>Complaints 8523\", \"TX<br>Complaints 41352\", \"UT<br>Complaints 2951\", \"VA<br>Complaints 18150\", \"VI<br>Complaints 144\", \"VT<br>Complaints 943\", \"WA<br>Complaints 11554\", \"WI<br>Complaints 6125\", \"WV<br>Complaints 1457\", \"WY<br>Complaints 551\"], \"z\": [9.0, 219.0, 638.0, 5635.0, 153.0, 2385.0, 17.0, 12348.0, 81700.0, 9495.0, 6445.0, 3224.0, 2917.0, 53673.0, 32.0, 24548.0, 69.0, 1937.0, 2290.0, 1935.0, 19624.0, 6139.0, 2694.0, 3992.0, 5403.0, 11105.0, 17703.0, 1942.0, 27.0, 14486.0, 6424.0, 7233.0, 19.0, 2570.0, 893.0, 15501.0, 476.0, 1742.0, 2826.0, 22408.0, 2776.0, 6779.0, 38266.0, 17380.0, 3630.0, 6604.0, 20015.0, 1316.0, 9.0, 1899.0, 7013.0, 757.0, 8523.0, 41352.0, 2951.0, 18150.0, 144.0, 943.0, 11554.0, 6125.0, 1457.0, 551.0], \"type\": \"choropleth\", \"uid\": \"acbc6d60-6eb7-480d-9513-9c1fe79514f8\"}], {\"geo\": {\"lakecolor\": \"rgb(255, 255, 255)\", \"projection\": {\"type\": \"albers usa\"}, \"scope\": \"usa\", \"showlakes\": false}, \"title\": {\"text\": \"Number of Complaints by State<br>\"}}, {\"showLink\": false, \"linkText\": \"Export to plot.ly\", \"plotlyServerURL\": \"https://plot.ly\"})});</script><script type=\"text/javascript\">window.addEventListener(\"resize\", function(){window._Plotly.Plots.resize(document.getElementById(\"41b99eaa-26ac-4862-b1f9-774519c73fb7\"));});</script>"
      ],
      "text/vnd.plotly.v1+html": [
       "<div id=\"41b99eaa-26ac-4862-b1f9-774519c73fb7\" style=\"height: 525px; width: 100%;\" class=\"plotly-graph-div\"></div><script type=\"text/javascript\">require([\"plotly\"], function(Plotly) { window.PLOTLYENV=window.PLOTLYENV || {};window.PLOTLYENV.BASE_URL=\"https://plot.ly\";Plotly.newPlot(\"41b99eaa-26ac-4862-b1f9-774519c73fb7\", [{\"autocolorscale\": false, \"colorbar\": {\"title\": {\"text\": \"Number of Complaints\"}}, \"colorscale\": [[0.0, \"rgb(242,240,247)\"], [0.2, \"rgb(218,218,235)\"], [0.4, \"rgb(188,189,220)\"], [0.6, \"rgb(158,154,200)\"], [0.8, \"rgb(117,107,177)\"], [1.0, \"rgb(84,39,143)\"]], \"locationmode\": \"USA-states\", \"locations\": [\"AA\", \"AE\", \"AK\", \"AL\", \"AP\", \"AR\", \"AS\", \"AZ\", \"CA\", \"CO\", \"CT\", \"DC\", \"DE\", \"FL\", \"FM\", \"GA\", \"GU\", \"HI\", \"IA\", \"ID\", \"IL\", \"IN\", \"KS\", \"KY\", \"LA\", \"MA\", \"MD\", \"ME\", \"MH\", \"MI\", \"MN\", \"MO\", \"MP\", \"MS\", \"MT\", \"NC\", \"ND\", \"NE\", \"NH\", \"NJ\", \"NM\", \"NV\", \"NY\", \"OH\", \"OK\", \"OR\", \"PA\", \"PR\", \"PW\", \"RI\", \"SC\", \"SD\", \"TN\", \"TX\", \"UT\", \"VA\", \"VI\", \"VT\", \"WA\", \"WI\", \"WV\", \"WY\"], \"marker\": {\"line\": {\"color\": \"rgb(255,255,255)\", \"width\": 2}}, \"text\": [\"AA<br>Complaints 9\", \"AE<br>Complaints 219\", \"AK<br>Complaints 638\", \"AL<br>Complaints 5635\", \"AP<br>Complaints 153\", \"AR<br>Complaints 2385\", \"AS<br>Complaints 17\", \"AZ<br>Complaints 12348\", \"CA<br>Complaints 81700\", \"CO<br>Complaints 9495\", \"CT<br>Complaints 6445\", \"DC<br>Complaints 3224\", \"DE<br>Complaints 2917\", \"FL<br>Complaints 53673\", \"FM<br>Complaints 32\", \"GA<br>Complaints 24548\", \"GU<br>Complaints 69\", \"HI<br>Complaints 1937\", \"IA<br>Complaints 2290\", \"ID<br>Complaints 1935\", \"IL<br>Complaints 19624\", \"IN<br>Complaints 6139\", \"KS<br>Complaints 2694\", \"KY<br>Complaints 3992\", \"LA<br>Complaints 5403\", \"MA<br>Complaints 11105\", \"MD<br>Complaints 17703\", \"ME<br>Complaints 1942\", \"MH<br>Complaints 27\", \"MI<br>Complaints 14486\", \"MN<br>Complaints 6424\", \"MO<br>Complaints 7233\", \"MP<br>Complaints 19\", \"MS<br>Complaints 2570\", \"MT<br>Complaints 893\", \"NC<br>Complaints 15501\", \"ND<br>Complaints 476\", \"NE<br>Complaints 1742\", \"NH<br>Complaints 2826\", \"NJ<br>Complaints 22408\", \"NM<br>Complaints 2776\", \"NV<br>Complaints 6779\", \"NY<br>Complaints 38266\", \"OH<br>Complaints 17380\", \"OK<br>Complaints 3630\", \"OR<br>Complaints 6604\", \"PA<br>Complaints 20015\", \"PR<br>Complaints 1316\", \"PW<br>Complaints 9\", \"RI<br>Complaints 1899\", \"SC<br>Complaints 7013\", \"SD<br>Complaints 757\", \"TN<br>Complaints 8523\", \"TX<br>Complaints 41352\", \"UT<br>Complaints 2951\", \"VA<br>Complaints 18150\", \"VI<br>Complaints 144\", \"VT<br>Complaints 943\", \"WA<br>Complaints 11554\", \"WI<br>Complaints 6125\", \"WV<br>Complaints 1457\", \"WY<br>Complaints 551\"], \"z\": [9.0, 219.0, 638.0, 5635.0, 153.0, 2385.0, 17.0, 12348.0, 81700.0, 9495.0, 6445.0, 3224.0, 2917.0, 53673.0, 32.0, 24548.0, 69.0, 1937.0, 2290.0, 1935.0, 19624.0, 6139.0, 2694.0, 3992.0, 5403.0, 11105.0, 17703.0, 1942.0, 27.0, 14486.0, 6424.0, 7233.0, 19.0, 2570.0, 893.0, 15501.0, 476.0, 1742.0, 2826.0, 22408.0, 2776.0, 6779.0, 38266.0, 17380.0, 3630.0, 6604.0, 20015.0, 1316.0, 9.0, 1899.0, 7013.0, 757.0, 8523.0, 41352.0, 2951.0, 18150.0, 144.0, 943.0, 11554.0, 6125.0, 1457.0, 551.0], \"type\": \"choropleth\", \"uid\": \"acbc6d60-6eb7-480d-9513-9c1fe79514f8\"}], {\"geo\": {\"lakecolor\": \"rgb(255, 255, 255)\", \"projection\": {\"type\": \"albers usa\"}, \"scope\": \"usa\", \"showlakes\": false}, \"title\": {\"text\": \"Number of Complaints by State<br>\"}}, {\"showLink\": false, \"linkText\": \"Export to plot.ly\", \"plotlyServerURL\": \"https://plot.ly\"})});</script><script type=\"text/javascript\">window.addEventListener(\"resize\", function(){window._Plotly.Plots.resize(document.getElementById(\"41b99eaa-26ac-4862-b1f9-774519c73fb7\"));});</script>"
      ]
     },
     "metadata": {},
     "output_type": "display_data"
    }
   ],
   "source": [
    "init_notebook_mode(connected=True)\n",
    "for col in new_df.columns:\n",
    "    new_df[col] = new_df[col].astype(str)\n",
    "\n",
    "    scl = [[0.0, 'rgb(242,240,247)'],[0.2, 'rgb(218,218,235)'],[0.4, 'rgb(188,189,220)'],\\\n",
    "            [0.6, 'rgb(158,154,200)'],[0.8, 'rgb(117,107,177)'],[1.0, 'rgb(84,39,143)']]\n",
    "\n",
    "new_df['text'] = new_df['state'] + '<br>' + 'Complaints '+new_df['Number_Complaints']\n",
    "    \n",
    "\n",
    "data = [ dict(\n",
    "        type='choropleth',\n",
    "        colorscale = scl,\n",
    "        autocolorscale = False,\n",
    "        locations = new_df['state'], \n",
    "        locationmode = 'USA-states',\n",
    "        z = new_df['Number_Complaints'].astype(float),\n",
    "        text = new_df['text'],\n",
    "        marker = dict(\n",
    "            line = dict (\n",
    "                color = 'rgb(255,255,255)',\n",
    "                width = 2\n",
    "            ) ),\n",
    "        colorbar = dict(\n",
    "            title = \"Number of Complaints\")\n",
    "        ) ]\n",
    "\n",
    "layout = dict(\n",
    "        title = 'Number of Complaints by State<br>',\n",
    "        geo = dict(\n",
    "            scope='usa',\n",
    "            projection=dict( type='albers usa' ),\n",
    "            showlakes = False,\n",
    "            lakecolor = 'rgb(255, 255, 255)'),\n",
    "             )\n",
    "    \n",
    "fig = dict( data=data, layout=layout )\n",
    "iplot( fig, filename='d3-cloropleth-map' )"
   ]
  },
  {
   "cell_type": "code",
   "execution_count": null,
   "metadata": {},
   "outputs": [],
   "source": []
  }
 ],
 "metadata": {
  "kernelspec": {
   "display_name": "Python 3",
   "language": "python",
   "name": "python3"
  },
  "language_info": {
   "codemirror_mode": {
    "name": "ipython",
    "version": 3
   },
   "file_extension": ".py",
   "mimetype": "text/x-python",
   "name": "python",
   "nbconvert_exporter": "python",
   "pygments_lexer": "ipython3",
   "version": "3.7.0"
  }
 },
 "nbformat": 4,
 "nbformat_minor": 2
}
